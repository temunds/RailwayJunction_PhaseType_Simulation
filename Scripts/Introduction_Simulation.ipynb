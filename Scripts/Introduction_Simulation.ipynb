{
 "cells": [
  {
   "cell_type": "markdown",
   "source": [
    "\n",
    "# Introduction to the Simulation\n",
    "\n",
    "In this Notebook, the simulation method from the paper is explained on the exemplary railway junction from the paper."
   ],
   "metadata": {
    "collapsed": false
   },
   "id": "762275dfe2eb99d2"
  },
  {
   "cell_type": "markdown",
   "source": [
    "First of all, we import the needed modules. For the actual simulation, we use the python package simpy."
   ],
   "metadata": {
    "collapsed": false
   },
   "id": "7f20bf6620bd6272"
  },
  {
   "cell_type": "code",
   "execution_count": 39,
   "outputs": [],
   "source": [
    "import time\n",
    "import simpy\n",
    "\n",
    "from src.Simulator import Simulator\n",
    "from src.JunctionContainer import JunctionContainer, TrainMixContainer\n",
    "from src.CorrectnessTests import CorrectnessTests\n",
    "start = time.time()"
   ],
   "metadata": {
    "collapsed": false,
    "ExecuteTime": {
     "end_time": "2024-12-05T08:51:11.306261800Z",
     "start_time": "2024-12-05T08:51:11.267975300Z"
    }
   },
   "id": "b24092d8859fa39e"
  },
  {
   "cell_type": "markdown",
   "source": [
    "We start by creating a new environment."
   ],
   "metadata": {
    "collapsed": false
   },
   "id": "9d67c7321cbf4e25"
  },
  {
   "cell_type": "code",
   "execution_count": 40,
   "outputs": [],
   "source": [
    "env = simpy.Environment()"
   ],
   "metadata": {
    "collapsed": false,
    "ExecuteTime": {
     "end_time": "2024-12-05T08:51:11.330908600Z",
     "start_time": "2024-12-05T08:51:11.277823700Z"
    }
   },
   "id": "85001361cf41303"
  },
  {
   "cell_type": "markdown",
   "source": [
    "Furthermore, the exemplary junction is build. In this case we use an artificial train mix with 6 high-speed passenger trains per hour on all four routes. (Note that we assume the same traffic in both directions and therefore, only the traffic for the main line and the branching line needs to be given) "
   ],
   "metadata": {
    "collapsed": false
   },
   "id": "52beb56402a78269"
  },
  {
   "cell_type": "code",
   "execution_count": 41,
   "outputs": [],
   "source": [
    "junction = JunctionContainer(TrainMixContainer(6, 0, 0, 0), TrainMixContainer(6, 0, 0, 0), 't', 't2')\n",
    "junction.time_frame = 60"
   ],
   "metadata": {
    "collapsed": false,
    "ExecuteTime": {
     "end_time": "2024-12-05T08:51:11.330908600Z",
     "start_time": "2024-12-05T08:51:11.299264400Z"
    }
   },
   "id": "24dc93a28f1e1393"
  },
  {
   "cell_type": "markdown",
   "source": [
    "Therefore, we model arrival rates of"
   ],
   "metadata": {
    "collapsed": false
   },
   "id": "fbb37949f787011e"
  },
  {
   "cell_type": "code",
   "execution_count": 42,
   "outputs": [
    {
     "name": "stdout",
     "output_type": "stream",
     "text": [
      "Arrrival rate main lines: 0.1000 \n",
      "Arrrival rate branching lines: 0.1000 \n"
     ]
    }
   ],
   "source": [
    "print(f'Arrrival rate main lines: {junction.get_arrival_rate_main_branch():.4f} ')\n",
    "print(f'Arrrival rate branching lines: {junction.get_arrival_rate_side_branch():.4f} ')"
   ],
   "metadata": {
    "collapsed": false,
    "ExecuteTime": {
     "end_time": "2024-12-05T08:51:11.330908600Z",
     "start_time": "2024-12-05T08:51:11.306261800Z"
    }
   },
   "id": "7368d07d7c6663a3"
  },
  {
   "cell_type": "markdown",
   "source": [
    "in this example. Feel free to change the train mix to get a feeling for the model."
   ],
   "metadata": {
    "collapsed": false
   },
   "id": "4a76dcd53d2a085e"
  },
  {
   "cell_type": "markdown",
   "source": [
    "Regarding the service rate, we opt to fix it at 0.3 for every route, in correspondence with the simulations conducted in the paper. "
   ],
   "metadata": {
    "collapsed": false
   },
   "id": "af814da603fcadae"
  },
  {
   "cell_type": "code",
   "execution_count": 43,
   "outputs": [],
   "source": [
    "route_service_rate = {\n",
    "    'a-b': 0.3,\n",
    "    'a-c': 0.3,\n",
    "    'b-a': 0.3,\n",
    "    'c-a': 0.3\n",
    "}"
   ],
   "metadata": {
    "collapsed": false,
    "ExecuteTime": {
     "end_time": "2024-12-05T08:51:11.330908600Z",
     "start_time": "2024-12-05T08:51:11.330908600Z"
    }
   },
   "id": "55268ff56d573da7"
  },
  {
   "cell_type": "markdown",
   "source": [
    "Now we are setup to start a simulation run. This can be done for any number of time_steps. We use 1320 minutes here, which would correspond to 22 hours."
   ],
   "metadata": {
    "collapsed": false
   },
   "id": "a5cbd1d2e332d2a1"
  },
  {
   "cell_type": "code",
   "execution_count": 44,
   "outputs": [
    {
     "name": "stdout",
     "output_type": "stream",
     "text": [
      "1.0 % Done\n",
      "2.0 % Done\n",
      "3.0 % Done\n",
      "4.0 % Done\n",
      "5.0 % Done\n",
      "6.0 % Done\n",
      "7.000000000000001 % Done\n",
      "8.0 % Done\n",
      "9.0 % Done\n",
      "10.0 % Done\n",
      "11.0 % Done\n",
      "12.0 % Done\n",
      "13.0 % Done\n",
      "14.000000000000002 % Done\n",
      "15.0 % Done\n",
      "16.0 % Done\n",
      "17.0 % Done\n",
      "18.0 % Done\n",
      "19.0 % Done\n",
      "20.0 % Done\n",
      "21.0 % Done\n",
      "22.0 % Done\n",
      "23.0 % Done\n",
      "24.0 % Done\n",
      "25.0 % Done\n",
      "26.0 % Done\n",
      "27.0 % Done\n",
      "28.000000000000004 % Done\n",
      "28.999999999999996 % Done\n",
      "30.0 % Done\n",
      "31.0 % Done\n",
      "32.0 % Done\n",
      "33.0 % Done\n",
      "34.0 % Done\n",
      "35.0 % Done\n",
      "36.0 % Done\n",
      "37.0 % Done\n",
      "38.0 % Done\n",
      "39.0 % Done\n",
      "40.0 % Done\n",
      "41.0 % Done\n",
      "42.0 % Done\n",
      "43.0 % Done\n",
      "44.0 % Done\n",
      "45.0 % Done\n",
      "46.0 % Done\n",
      "47.0 % Done\n",
      "48.0 % Done\n",
      "49.0 % Done\n",
      "50.0 % Done\n",
      "51.0 % Done\n",
      "52.0 % Done\n",
      "53.0 % Done\n",
      "54.0 % Done\n",
      "55.00000000000001 % Done\n",
      "56.00000000000001 % Done\n",
      "56.99999999999999 % Done\n",
      "57.99999999999999 % Done\n",
      "59.0 % Done\n",
      "60.0 % Done\n",
      "61.0 % Done\n",
      "62.0 % Done\n",
      "63.0 % Done\n",
      "64.0 % Done\n",
      "65.0 % Done\n",
      "66.0 % Done\n",
      "67.0 % Done\n",
      "68.0 % Done\n",
      "69.0 % Done\n",
      "70.0 % Done\n",
      "71.0 % Done\n",
      "72.0 % Done\n",
      "73.0 % Done\n",
      "74.0 % Done\n",
      "75.0 % Done\n",
      "76.0 % Done\n",
      "77.0 % Done\n",
      "78.0 % Done\n",
      "79.0 % Done\n",
      "80.0 % Done\n",
      "81.0 % Done\n",
      "82.0 % Done\n",
      "83.0 % Done\n",
      "84.0 % Done\n",
      "85.0 % Done\n",
      "86.0 % Done\n",
      "87.0 % Done\n",
      "88.0 % Done\n",
      "89.0 % Done\n",
      "90.0 % Done\n",
      "91.0 % Done\n",
      "92.0 % Done\n",
      "93.0 % Done\n",
      "94.0 % Done\n",
      "95.0 % Done\n",
      "96.0 % Done\n",
      "97.0 % Done\n",
      "98.0 % Done\n",
      "99.0 % Done\n"
     ]
    }
   ],
   "source": [
    "setup = time.time()\n",
    "a = Simulator.run_junction_sim(env, junction, route_service_rate, run_until=1320)\n",
    "sim = time.time()"
   ],
   "metadata": {
    "collapsed": false,
    "ExecuteTime": {
     "end_time": "2024-12-05T08:51:15.179224200Z",
     "start_time": "2024-12-05T08:51:11.330908600Z"
    }
   },
   "id": "2aba9d0ed9b8655c"
  },
  {
   "cell_type": "markdown",
   "source": [
    "The simulation took"
   ],
   "metadata": {
    "collapsed": false
   },
   "id": "7c89d97a4aa847b2"
  },
  {
   "cell_type": "code",
   "execution_count": 45,
   "outputs": [
    {
     "name": "stdout",
     "output_type": "stream",
     "text": [
      "3.8247 s.\n"
     ]
    }
   ],
   "source": [
    "print(f'{(sim - setup):.4f} s.')"
   ],
   "metadata": {
    "collapsed": false,
    "ExecuteTime": {
     "end_time": "2024-12-05T08:51:15.179224200Z",
     "start_time": "2024-12-05T08:51:15.179224200Z"
    }
   },
   "id": "87c4bce7cdf3f3bd"
  },
  {
   "cell_type": "markdown",
   "source": [
    "We can now analyse the queue-lengths from the simulation log, which took a snapshot of the queue length for every route in every minute. To further compare this with the analytical results, we can build the average over the simulated time span. To allow the simulation some time for starting and cooling off, we use only the minutes 60-1260, therefore 20 hours, for this analysis."
   ],
   "metadata": {
    "collapsed": false
   },
   "id": "fc4da35bc5a19f21"
  },
  {
   "cell_type": "code",
   "execution_count": 46,
   "outputs": [
    {
     "name": "stdout",
     "output_type": "stream",
     "text": [
      "{'a-b': 0.35387177352206495, 'a-c': 0.5212323064113239, 'b-a': 0.46711074104912575, 'c-a': 0.23230641132389676}\n"
     ]
    }
   ],
   "source": [
    "print({k: r.calc_length_of_queue(start=60, end=1260) for k, r in a.routes.items()})"
   ],
   "metadata": {
    "collapsed": false,
    "ExecuteTime": {
     "end_time": "2024-12-05T08:51:15.194855800Z",
     "start_time": "2024-12-05T08:51:15.179224200Z"
    }
   },
   "id": "91093577be3e33be"
  },
  {
   "cell_type": "markdown",
   "source": [
    "The conflict-freeness of the simulation can be tested with the method 'eval_overlapping_conflicts', that counts the number of minutes, in which both routes of every route-pair have been occupied and adds up all the occurences of double occupation of conflicting routes. "
   ],
   "metadata": {
    "collapsed": false
   },
   "id": "75058edbc15b8bd2"
  },
  {
   "cell_type": "code",
   "execution_count": 47,
   "outputs": [
    {
     "name": "stdout",
     "output_type": "stream",
     "text": [
      "Number of conflicts: 0\n"
     ]
    }
   ],
   "source": [
    "sum_of_conflicts = CorrectnessTests.eval_overlapping_conflicts(a)\n",
    "print(f'Number of conflicts: {sum_of_conflicts}')"
   ],
   "metadata": {
    "collapsed": false,
    "ExecuteTime": {
     "end_time": "2024-12-05T08:51:15.773255300Z",
     "start_time": "2024-12-05T08:51:15.194855800Z"
    }
   },
   "id": "b5022b5f3c221b80"
  },
  {
   "cell_type": "markdown",
   "source": [
    "In the validation part, this simulation has been performed for different numbers of trains and traffic shares of main and branching line. To facilitate for the random effects in the simulation, 100 simulations have been performed for every parameter setting and combined by averaging over all queue-lenghts. Furthermore, in addition to the results, the number of conflicts has been stored for every simulation run, ensuring the correctness of all simulation runs."
   ],
   "metadata": {
    "collapsed": false
   },
   "id": "ff08b9b5e8e21897"
  },
  {
   "cell_type": "markdown",
   "source": [
    "Feel free to adapt this code and use it for your own simulations, including a reference to the paper would be highly appreciated.\n",
    "\n",
    "Cheers!"
   ],
   "metadata": {
    "collapsed": false
   },
   "id": "5c1ff8746974b417"
  }
 ],
 "metadata": {
  "kernelspec": {
   "display_name": "Python 3",
   "language": "python",
   "name": "python3"
  },
  "language_info": {
   "codemirror_mode": {
    "name": "ipython",
    "version": 2
   },
   "file_extension": ".py",
   "mimetype": "text/x-python",
   "name": "python",
   "nbconvert_exporter": "python",
   "pygments_lexer": "ipython2",
   "version": "2.7.6"
  }
 },
 "nbformat": 4,
 "nbformat_minor": 5
}
